{
 "cells": [
  {
   "cell_type": "markdown",
   "metadata": {},
   "source": [
    "# Alpha Vantage API Demo\n",
    "\n",
    "This notebook demonstrates how to use the Alpha Vantage client for fetching financial data, fundamentals, and news & sentiment analysis."
   ]
  },
  {
   "cell_type": "code",
   "execution_count": 5,
   "metadata": {},
   "outputs": [
    {
     "name": "stderr",
     "output_type": "stream",
     "text": [
      "/Users/paggrawal/hobby_projects/trader/investment_machine/venv/lib/python3.9/site-packages/urllib3/__init__.py:35: NotOpenSSLWarning: urllib3 v2 only supports OpenSSL 1.1.1+, currently the 'ssl' module is compiled with 'LibreSSL 2.8.3'. See: https://github.com/urllib3/urllib3/issues/3020\n",
      "  warnings.warn(\n"
     ]
    }
   ],
   "source": [
    "import sys\n",
    "import os\n",
    "import pandas as pd\n",
    "import matplotlib.pyplot as plt\n",
    "\n",
    "# Add the project root to the path to enable imports\n",
    "sys.path.append(os.path.abspath('../..'))\n",
    "\n",
    "# Import the Alpha Vantage client\n",
    "from investment_machine.src.tools.data_fetchers.alpha_vantage import AlphaVantageClient"
   ]
  },
  {
   "cell_type": "code",
   "execution_count": 4,
   "metadata": {
    "scrolled": true
   },
   "outputs": [
    {
     "name": "stdout",
     "output_type": "stream",
     "text": [
      "\u001b[33mWARNING: You are using pip version 21.2.4; however, version 25.1.1 is available.\n",
      "You should consider upgrading via the '/Users/paggrawal/hobby_projects/trader/investment_machine/venv/bin/python3 -m pip install --upgrade pip' command.\u001b[0m\n"
     ]
    }
   ],
   "source": [
    "!pip3 install -q pandas matplotlib"
   ]
  },
  {
   "cell_type": "markdown",
   "metadata": {},
   "source": [
    "## Initialize the Alpha Vantage Client\n",
    "\n",
    "You can provide your API key directly or set it as an environment variable `ALPHA_VANTAGE_API_KEY`."
   ]
  },
  {
   "cell_type": "code",
   "execution_count": 6,
   "metadata": {},
   "outputs": [],
   "source": [
    "# Option 1: Read from environment variable\n",
    "# client = AlphaVantageClient()\n",
    "\n",
    "# Option 2: Provide API key directly\n",
    "client = AlphaVantageClient(api_key=\"JTPKOHNIT0NJYEQ2\")"
   ]
  },
  {
   "cell_type": "markdown",
   "metadata": {},
   "source": [
    "## Fetching Daily Stock Data\n",
    "\n",
    "Get daily adjusted price data for an Indian stock (using NSE/BSE extensions)"
   ]
  },
  {
   "cell_type": "code",
   "execution_count": 7,
   "metadata": {},
   "outputs": [
    {
     "data": {
      "text/html": [
       "<div>\n",
       "<style scoped>\n",
       "    .dataframe tbody tr th:only-of-type {\n",
       "        vertical-align: middle;\n",
       "    }\n",
       "\n",
       "    .dataframe tbody tr th {\n",
       "        vertical-align: top;\n",
       "    }\n",
       "\n",
       "    .dataframe thead th {\n",
       "        text-align: right;\n",
       "    }\n",
       "</style>\n",
       "<table border=\"1\" class=\"dataframe\">\n",
       "  <thead>\n",
       "    <tr style=\"text-align: right;\">\n",
       "      <th></th>\n",
       "    </tr>\n",
       "  </thead>\n",
       "  <tbody>\n",
       "  </tbody>\n",
       "</table>\n",
       "</div>"
      ],
      "text/plain": [
       "Empty DataFrame\n",
       "Columns: []\n",
       "Index: []"
      ]
     },
     "execution_count": 7,
     "metadata": {},
     "output_type": "execute_result"
    }
   ],
   "source": [
    "# Fetch daily adjusted data for Reliance Industries from NSE\n",
    "reliance_daily = client.get_daily_adjusted(\"RELIANCE.NS\")\n",
    "\n",
    "# Display the last 5 data points\n",
    "reliance_daily.tail()"
   ]
  },
  {
   "cell_type": "code",
   "execution_count": 8,
   "metadata": {
    "scrolled": true
   },
   "outputs": [
    {
     "ename": "KeyError",
     "evalue": "'adjusted close'",
     "output_type": "error",
     "traceback": [
      "\u001b[0;31m---------------------------------------------------------------------------\u001b[0m",
      "\u001b[0;31mKeyError\u001b[0m                                  Traceback (most recent call last)",
      "Cell \u001b[0;32mIn[8], line 3\u001b[0m\n\u001b[1;32m      1\u001b[0m \u001b[38;5;66;03m# Plot the closing price\u001b[39;00m\n\u001b[1;32m      2\u001b[0m plt\u001b[38;5;241m.\u001b[39mfigure(figsize\u001b[38;5;241m=\u001b[39m(\u001b[38;5;241m12\u001b[39m, \u001b[38;5;241m6\u001b[39m))\n\u001b[0;32m----> 3\u001b[0m plt\u001b[38;5;241m.\u001b[39mplot(reliance_daily\u001b[38;5;241m.\u001b[39mindex, \u001b[43mreliance_daily\u001b[49m\u001b[43m[\u001b[49m\u001b[38;5;124;43m'\u001b[39;49m\u001b[38;5;124;43madjusted close\u001b[39;49m\u001b[38;5;124;43m'\u001b[39;49m\u001b[43m]\u001b[49m)\n\u001b[1;32m      4\u001b[0m plt\u001b[38;5;241m.\u001b[39mtitle(\u001b[38;5;124m'\u001b[39m\u001b[38;5;124mReliance Industries - Adjusted Close Price\u001b[39m\u001b[38;5;124m'\u001b[39m)\n\u001b[1;32m      5\u001b[0m plt\u001b[38;5;241m.\u001b[39mxlabel(\u001b[38;5;124m'\u001b[39m\u001b[38;5;124mDate\u001b[39m\u001b[38;5;124m'\u001b[39m)\n",
      "File \u001b[0;32m~/hobby_projects/trader/investment_machine/venv/lib/python3.9/site-packages/pandas/core/frame.py:4102\u001b[0m, in \u001b[0;36mDataFrame.__getitem__\u001b[0;34m(self, key)\u001b[0m\n\u001b[1;32m   4100\u001b[0m \u001b[38;5;28;01mif\u001b[39;00m \u001b[38;5;28mself\u001b[39m\u001b[38;5;241m.\u001b[39mcolumns\u001b[38;5;241m.\u001b[39mnlevels \u001b[38;5;241m>\u001b[39m \u001b[38;5;241m1\u001b[39m:\n\u001b[1;32m   4101\u001b[0m     \u001b[38;5;28;01mreturn\u001b[39;00m \u001b[38;5;28mself\u001b[39m\u001b[38;5;241m.\u001b[39m_getitem_multilevel(key)\n\u001b[0;32m-> 4102\u001b[0m indexer \u001b[38;5;241m=\u001b[39m \u001b[38;5;28;43mself\u001b[39;49m\u001b[38;5;241;43m.\u001b[39;49m\u001b[43mcolumns\u001b[49m\u001b[38;5;241;43m.\u001b[39;49m\u001b[43mget_loc\u001b[49m\u001b[43m(\u001b[49m\u001b[43mkey\u001b[49m\u001b[43m)\u001b[49m\n\u001b[1;32m   4103\u001b[0m \u001b[38;5;28;01mif\u001b[39;00m is_integer(indexer):\n\u001b[1;32m   4104\u001b[0m     indexer \u001b[38;5;241m=\u001b[39m [indexer]\n",
      "File \u001b[0;32m~/hobby_projects/trader/investment_machine/venv/lib/python3.9/site-packages/pandas/core/indexes/range.py:417\u001b[0m, in \u001b[0;36mRangeIndex.get_loc\u001b[0;34m(self, key)\u001b[0m\n\u001b[1;32m    415\u001b[0m         \u001b[38;5;28;01mraise\u001b[39;00m \u001b[38;5;167;01mKeyError\u001b[39;00m(key) \u001b[38;5;28;01mfrom\u001b[39;00m\u001b[38;5;250m \u001b[39m\u001b[38;5;21;01merr\u001b[39;00m\n\u001b[1;32m    416\u001b[0m \u001b[38;5;28;01mif\u001b[39;00m \u001b[38;5;28misinstance\u001b[39m(key, Hashable):\n\u001b[0;32m--> 417\u001b[0m     \u001b[38;5;28;01mraise\u001b[39;00m \u001b[38;5;167;01mKeyError\u001b[39;00m(key)\n\u001b[1;32m    418\u001b[0m \u001b[38;5;28mself\u001b[39m\u001b[38;5;241m.\u001b[39m_check_indexing_error(key)\n\u001b[1;32m    419\u001b[0m \u001b[38;5;28;01mraise\u001b[39;00m \u001b[38;5;167;01mKeyError\u001b[39;00m(key)\n",
      "\u001b[0;31mKeyError\u001b[0m: 'adjusted close'"
     ]
    },
    {
     "data": {
      "text/plain": [
       "<Figure size 1200x600 with 0 Axes>"
      ]
     },
     "metadata": {},
     "output_type": "display_data"
    }
   ],
   "source": [
    "# Plot the closing price\n",
    "plt.figure(figsize=(12, 6))\n",
    "plt.plot(reliance_daily.index, reliance_daily['adjusted close'])\n",
    "plt.title('Reliance Industries - Adjusted Close Price')\n",
    "plt.xlabel('Date')\n",
    "plt.ylabel('Price (INR)')\n",
    "plt.grid(True)\n",
    "plt.show()"
   ]
  },
  {
   "cell_type": "markdown",
   "metadata": {},
   "source": [
    "## Fetching Fundamental Data\n",
    "\n",
    "Retrieve company overview and financial statements"
   ]
  },
  {
   "cell_type": "code",
   "execution_count": 9,
   "metadata": {
    "scrolled": true
   },
   "outputs": [
    {
     "data": {
      "text/plain": [
       "Symbol                  None\n",
       "Name                    None\n",
       "Description             None\n",
       "Sector                  None\n",
       "Industry                None\n",
       "MarketCapitalization    None\n",
       "PERatio                 None\n",
       "PEGRatio                None\n",
       "BookValue               None\n",
       "DividendYield           None\n",
       "EPS                     None\n",
       "ProfitMargin            None\n",
       "ROE                     None\n",
       "dtype: object"
      ]
     },
     "execution_count": 9,
     "metadata": {},
     "output_type": "execute_result"
    }
   ],
   "source": [
    "# Get company overview\n",
    "overview = client.get_company_overview(\"RELIANCE.NS\")\n",
    "\n",
    "# Display selected information\n",
    "selected_info = {\n",
    "    key: overview.get(key) for key in [\n",
    "        \"Symbol\", \"Name\", \"Description\", \"Sector\", \"Industry\", \"MarketCapitalization\",\n",
    "        \"PERatio\", \"PEGRatio\", \"BookValue\", \"DividendYield\", \"EPS\", \"ProfitMargin\", \"ROE\"\n",
    "    ]\n",
    "}\n",
    "\n",
    "pd.Series(selected_info)"
   ]
  },
  {
   "cell_type": "code",
   "execution_count": null,
   "metadata": {},
   "outputs": [],
   "source": [
    "# Get income statement\n",
    "income_statement = client.get_income_statement(\"RELIANCE.NS\")\n",
    "\n",
    "# Extract annual reports and create a DataFrame\n",
    "annual_reports = income_statement.get(\"annualReports\", [])\n",
    "if annual_reports:\n",
    "    # Create a DataFrame with key metrics\n",
    "    metrics = [\n",
    "        \"fiscalDateEnding\", \"totalRevenue\", \"grossProfit\", \"operatingIncome\", \n",
    "        \"netIncome\", \"ebitda\"\n",
    "    ]\n",
    "    \n",
    "    # Extract data for each year\n",
    "    data = []\n",
    "    for report in annual_reports:\n",
    "        data.append({metric: report.get(metric) for metric in metrics})\n",
    "        \n",
    "    # Create and display DataFrame\n",
    "    income_df = pd.DataFrame(data)\n",
    "    income_df.set_index(\"fiscalDateEnding\", inplace=True)\n",
    "    \n",
    "    # Convert to numeric\n",
    "    income_df = income_df.apply(pd.to_numeric)\n",
    "    \n",
    "    # Display in millions\n",
    "    (income_df / 1_000_000).round(2)"
   ]
  },
  {
   "cell_type": "markdown",
   "metadata": {},
   "source": [
    "## Calculate Key Financial Metrics\n",
    "\n",
    "Use the helper method to calculate key financial metrics"
   ]
  },
  {
   "cell_type": "code",
   "execution_count": null,
   "metadata": {},
   "outputs": [],
   "source": [
    "# Calculate key metrics for Reliance\n",
    "metrics = client.calculate_key_metrics(\"RELIANCE.NS\")\n",
    "\n",
    "# Display metrics\n",
    "pd.Series(metrics)"
   ]
  },
  {
   "cell_type": "markdown",
   "metadata": {},
   "source": [
    "## News & Sentiment Analysis\n",
    "\n",
    "Retrieve recent news and sentiment data"
   ]
  },
  {
   "cell_type": "code",
   "execution_count": null,
   "metadata": {},
   "outputs": [],
   "source": [
    "# Get news for Reliance, limit to 10 items\n",
    "news = client.get_news_sentiment(symbol=\"RELIANCE.NS\", limit=10)\n",
    "\n",
    "# Process and display news items\n",
    "news_items = news.get(\"feed\", [])\n",
    "if news_items:\n",
    "    # Create a list of news with relevant information\n",
    "    processed_news = []\n",
    "    for item in news_items:\n",
    "        processed_news.append({\n",
    "            \"title\": item.get(\"title\"),\n",
    "            \"time_published\": item.get(\"time_published\"),\n",
    "            \"sentiment\": item.get(\"overall_sentiment_label\"),\n",
    "            \"sentiment_score\": item.get(\"overall_sentiment_score\"),\n",
    "            \"url\": item.get(\"url\")\n",
    "        })\n",
    "    \n",
    "    # Create and display DataFrame\n",
    "    news_df = pd.DataFrame(processed_news)\n",
    "    news_df"
   ]
  },
  {
   "cell_type": "markdown",
   "metadata": {},
   "source": [
    "## Topic-based News\n",
    "\n",
    "Retrieve news based on specific topics relevant to Indian markets"
   ]
  },
  {
   "cell_type": "code",
   "execution_count": null,
   "metadata": {},
   "outputs": [],
   "source": [
    "# Get news for specific topics (e.g., economy, ipo, technology)\n",
    "topic_news = client.get_news_sentiment(topics=\"economy,ipo,technology\", limit=10)\n",
    "\n",
    "# Process and display topic-based news\n",
    "topic_items = topic_news.get(\"feed\", [])\n",
    "if topic_items:\n",
    "    # Create a list of news with relevant information\n",
    "    processed_topics = []\n",
    "    for item in topic_items:\n",
    "        processed_topics.append({\n",
    "            \"title\": item.get(\"title\"),\n",
    "            \"time_published\": item.get(\"time_published\"),\n",
    "            \"topics\": \", \".join([topic.get(\"topic\") for topic in item.get(\"topics\", [])]),\n",
    "            \"sentiment\": item.get(\"overall_sentiment_label\"),\n",
    "            \"url\": item.get(\"url\")\n",
    "        })\n",
    "    \n",
    "    # Create and display DataFrame\n",
    "    topics_df = pd.DataFrame(processed_topics)\n",
    "    topics_df"
   ]
  }
 ],
 "metadata": {
  "kernelspec": {
   "display_name": "Investment Machine",
   "language": "python",
   "name": "investment-machine"
  },
  "language_info": {
   "codemirror_mode": {
    "name": "ipython",
    "version": 3
   },
   "file_extension": ".py",
   "mimetype": "text/x-python",
   "name": "python",
   "nbconvert_exporter": "python",
   "pygments_lexer": "ipython3",
   "version": "3.9.6"
  }
 },
 "nbformat": 4,
 "nbformat_minor": 4
}
