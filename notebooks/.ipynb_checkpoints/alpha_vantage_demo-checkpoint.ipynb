{
 "cells": [
  {
   "cell_type": "markdown",
   "metadata": {},
   "source": [
    "# Alpha Vantage API Demo\n",
    "\n",
    "This notebook demonstrates how to use the Alpha Vantage client for fetching financial data, fundamentals, and news & sentiment analysis."
   ]
  },
  {
   "cell_type": "code",
   "execution_count": null,
   "metadata": {},
   "outputs": [],
   "source": [
    "import sys\n",
    "import os\n",
    "import pandas as pd\n",
    "import matplotlib.pyplot as plt\n",
    "\n",
    "# Add the project root to the path to enable imports\n",
    "sys.path.append(os.path.abspath('../..'))\n",
    "\n",
    "# Import the Alpha Vantage client\n",
    "from investment_machine.src.tools.data_fetchers.alpha_vantage import AlphaVantageClient"
   ]
  },
  {
   "cell_type": "markdown",
   "metadata": {},
   "source": [
    "## Initialize the Alpha Vantage Client\n",
    "\n",
    "You can provide your API key directly or set it as an environment variable `ALPHA_VANTAGE_API_KEY`."
   ]
  },
  {
   "cell_type": "code",
   "execution_count": null,
   "metadata": {},
   "outputs": [],
   "source": [
    "# Option 1: Read from environment variable\n",
    "client = AlphaVantageClient()\n",
    "\n",
    "# Option 2: Provide API key directly\n",
    "# client = AlphaVantageClient(api_key=\"YOUR_API_KEY_HERE\")"
   ]
  },
  {
   "cell_type": "markdown",
   "metadata": {},
   "source": [
    "## Fetching Daily Stock Data\n",
    "\n",
    "Get daily adjusted price data for an Indian stock (using NSE/BSE extensions)"
   ]
  },
  {
   "cell_type": "code",
   "execution_count": null,
   "metadata": {},
   "outputs": [],
   "source": [
    "# Fetch daily adjusted data for Reliance Industries from NSE\n",
    "reliance_daily = client.get_daily_adjusted(\"RELIANCE.NS\")\n",
    "\n",
    "# Display the last 5 data points\n",
    "reliance_daily.tail()"
   ]
  },
  {
   "cell_type": "code",
   "execution_count": null,
   "metadata": {},
   "outputs": [],
   "source": [
    "# Plot the closing price\n",
    "plt.figure(figsize=(12, 6))\n",
    "plt.plot(reliance_daily.index, reliance_daily['adjusted close'])\n",
    "plt.title('Reliance Industries - Adjusted Close Price')\n",
    "plt.xlabel('Date')\n",
    "plt.ylabel('Price (INR)')\n",
    "plt.grid(True)\n",
    "plt.show()"
   ]
  },
  {
   "cell_type": "markdown",
   "metadata": {},
   "source": [
    "## Fetching Fundamental Data\n",
    "\n",
    "Retrieve company overview and financial statements"
   ]
  },
  {
   "cell_type": "code",
   "execution_count": null,
   "metadata": {},
   "outputs": [],
   "source": [
    "# Get company overview\n",
    "overview = client.get_company_overview(\"RELIANCE.NS\")\n",
    "\n",
    "# Display selected information\n",
    "selected_info = {\n",
    "    key: overview.get(key) for key in [\n",
    "        \"Symbol\", \"Name\", \"Description\", \"Sector\", \"Industry\", \"MarketCapitalization\",\n",
    "        \"PERatio\", \"PEGRatio\", \"BookValue\", \"DividendYield\", \"EPS\", \"ProfitMargin\", \"ROE\"\n",
    "    ]\n",
    "}\n",
    "\n",
    "pd.Series(selected_info)"
   ]
  },
  {
   "cell_type": "code",
   "execution_count": null,
   "metadata": {},
   "outputs": [],
   "source": [
    "# Get income statement\n",
    "income_statement = client.get_income_statement(\"RELIANCE.NS\")\n",
    "\n",
    "# Extract annual reports and create a DataFrame\n",
    "annual_reports = income_statement.get(\"annualReports\", [])\n",
    "if annual_reports:\n",
    "    # Create a DataFrame with key metrics\n",
    "    metrics = [\n",
    "        \"fiscalDateEnding\", \"totalRevenue\", \"grossProfit\", \"operatingIncome\", \n",
    "        \"netIncome\", \"ebitda\"\n",
    "    ]\n",
    "    \n",
    "    # Extract data for each year\n",
    "    data = []\n",
    "    for report in annual_reports:\n",
    "        data.append({metric: report.get(metric) for metric in metrics})\n",
    "        \n",
    "    # Create and display DataFrame\n",
    "    income_df = pd.DataFrame(data)\n",
    "    income_df.set_index(\"fiscalDateEnding\", inplace=True)\n",
    "    \n",
    "    # Convert to numeric\n",
    "    income_df = income_df.apply(pd.to_numeric)\n",
    "    \n",
    "    # Display in millions\n",
    "    (income_df / 1_000_000).round(2)"
   ]
  },
  {
   "cell_type": "markdown",
   "metadata": {},
   "source": [
    "## Calculate Key Financial Metrics\n",
    "\n",
    "Use the helper method to calculate key financial metrics"
   ]
  },
  {
   "cell_type": "code",
   "execution_count": null,
   "metadata": {},
   "outputs": [],
   "source": [
    "# Calculate key metrics for Reliance\n",
    "metrics = client.calculate_key_metrics(\"RELIANCE.NS\")\n",
    "\n",
    "# Display metrics\n",
    "pd.Series(metrics)"
   ]
  },
  {
   "cell_type": "markdown",
   "metadata": {},
   "source": [
    "## News & Sentiment Analysis\n",
    "\n",
    "Retrieve recent news and sentiment data"
   ]
  },
  {
   "cell_type": "code",
   "execution_count": null,
   "metadata": {},
   "outputs": [],
   "source": [
    "# Get news for Reliance, limit to 10 items\n",
    "news = client.get_news_sentiment(symbol=\"RELIANCE.NS\", limit=10)\n",
    "\n",
    "# Process and display news items\n",
    "news_items = news.get(\"feed\", [])\n",
    "if news_items:\n",
    "    # Create a list of news with relevant information\n",
    "    processed_news = []\n",
    "    for item in news_items:\n",
    "        processed_news.append({\n",
    "            \"title\": item.get(\"title\"),\n",
    "            \"time_published\": item.get(\"time_published\"),\n",
    "            \"sentiment\": item.get(\"overall_sentiment_label\"),\n",
    "            \"sentiment_score\": item.get(\"overall_sentiment_score\"),\n",
    "            \"url\": item.get(\"url\")\n",
    "        })\n",
    "    \n",
    "    # Create and display DataFrame\n",
    "    news_df = pd.DataFrame(processed_news)\n",
    "    news_df"
   ]
  },
  {
   "cell_type": "markdown",
   "metadata": {},
   "source": [
    "## Topic-based News\n",
    "\n",
    "Retrieve news based on specific topics relevant to Indian markets"
   ]
  },
  {
   "cell_type": "code",
   "execution_count": null,
   "metadata": {},
   "outputs": [],
   "source": [
    "# Get news for specific topics (e.g., economy, ipo, technology)\n",
    "topic_news = client.get_news_sentiment(topics=\"economy,ipo,technology\", limit=10)\n",
    "\n",
    "# Process and display topic-based news\n",
    "topic_items = topic_news.get(\"feed\", [])\n",
    "if topic_items:\n",
    "    # Create a list of news with relevant information\n",
    "    processed_topics = []\n",
    "    for item in topic_items:\n",
    "        processed_topics.append({\n",
    "            \"title\": item.get(\"title\"),\n",
    "            \"time_published\": item.get(\"time_published\"),\n",
    "            \"topics\": \", \".join([topic.get(\"topic\") for topic in item.get(\"topics\", [])]),\n",
    "            \"sentiment\": item.get(\"overall_sentiment_label\"),\n",
    "            \"url\": item.get(\"url\")\n",
    "        })\n",
    "    \n",
    "    # Create and display DataFrame\n",
    "    topics_df = pd.DataFrame(processed_topics)\n",
    "    topics_df"
   ]
  }
 ],
 "metadata": {
  "kernelspec": {
   "display_name": "Python 3",
   "language": "python",
   "name": "python3"
  },
  "language_info": {
   "codemirror_mode": {
    "name": "ipython",
    "version": 3
   },
   "file_extension": ".py",
   "mimetype": "text/x-python",
   "name": "python",
   "nbconvert_exporter": "python",
   "pygments_lexer": "ipython3",
   "version": "3.9.7"
  }
 },
 "nbformat": 4,
 "nbformat_minor": 4
} 
